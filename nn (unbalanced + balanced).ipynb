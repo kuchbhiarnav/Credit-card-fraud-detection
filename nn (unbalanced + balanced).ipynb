{
 "cells": [
  {
   "cell_type": "markdown",
   "id": "87b67eb7",
   "metadata": {},
   "source": [
    "### Applying Artificial Neural networks for Credit card fraud detecion\n",
    "\n",
    "- Neural networks has been applied on the unbalanced dataset.\n",
    "- I have removed the least relevant features from X based on the chi square test\n",
    "- we will be predicting the class (fraud || legit transaction)\n",
    "- Sequential neural network has been implemneted"
   ]
  },
  {
   "cell_type": "markdown",
   "id": "07c7f4ab",
   "metadata": {},
   "source": [
    "## Lifecycle followed:\n",
    "- Loading the data (credit card dataset)\n",
    "- Check missing values\n",
    "- Split the data into X and Y (train:80% || test: 20%)\n",
    "- Create ANN model [ ]\n",
    "- Compilation step\n",
    "- Train the model with 15 epochs\n",
    "- Prediction\n",
    "- Evaluation"
   ]
  },
  {
   "cell_type": "code",
   "execution_count": 13,
   "id": "f963b824",
   "metadata": {},
   "outputs": [],
   "source": [
    "from warnings import filterwarnings\n",
    "filterwarnings(\"ignore\")"
   ]
  },
  {
   "cell_type": "markdown",
   "id": "c1f584a0",
   "metadata": {},
   "source": [
    "Reading the dataset"
   ]
  },
  {
   "cell_type": "code",
   "execution_count": 14,
   "id": "d63a6534",
   "metadata": {},
   "outputs": [],
   "source": [
    "import pandas as pd\n",
    "A=pd.read_csv(\"C:/Users/Arnav/Desktop/PROJECTS/Credit card fraud detection (IBM)/dataset/creditcard.csv\")"
   ]
  },
  {
   "cell_type": "markdown",
   "id": "51b62727",
   "metadata": {},
   "source": [
    "Missing Value Treatment"
   ]
  },
  {
   "cell_type": "code",
   "execution_count": 3,
   "id": "d2a71ed0",
   "metadata": {},
   "outputs": [
    {
     "data": {
      "text/plain": [
       "Time      0\n",
       "V1        0\n",
       "V2        0\n",
       "V3        0\n",
       "V4        0\n",
       "V5        0\n",
       "V6        0\n",
       "V7        0\n",
       "V8        0\n",
       "V9        0\n",
       "V10       0\n",
       "V11       0\n",
       "V12       0\n",
       "V13       0\n",
       "V14       0\n",
       "V15       0\n",
       "V16       0\n",
       "V17       0\n",
       "V18       0\n",
       "V19       0\n",
       "V20       0\n",
       "V21       0\n",
       "V22       0\n",
       "V23       0\n",
       "V24       0\n",
       "V25       0\n",
       "V26       0\n",
       "V27       0\n",
       "V28       0\n",
       "Amount    0\n",
       "Class     0\n",
       "dtype: int64"
      ]
     },
     "execution_count": 3,
     "metadata": {},
     "output_type": "execute_result"
    }
   ],
   "source": [
    "A.isnull().sum()"
   ]
  },
  {
   "cell_type": "markdown",
   "id": "d45f949b",
   "metadata": {},
   "source": [
    "Dividing the training and testing set"
   ]
  },
  {
   "cell_type": "code",
   "execution_count": 4,
   "id": "df4f3501",
   "metadata": {},
   "outputs": [],
   "source": [
    "X= A.drop(labels=['Class','V22','V23','V25'],axis=1)\n",
    "Y=A[['Class']]\n",
    "#full model - model with all the predictors"
   ]
  },
  {
   "cell_type": "markdown",
   "id": "01463793",
   "metadata": {},
   "source": [
    "### Implementing ANN on unbalanced dataset"
   ]
  },
  {
   "cell_type": "code",
   "execution_count": 5,
   "id": "c35e8087",
   "metadata": {},
   "outputs": [],
   "source": [
    "from sklearn.model_selection import train_test_split\n",
    "xtrain,xtest,ytrain,ytest= train_test_split(X,Y,test_size=0.2,stratify=Y,random_state=21)"
   ]
  },
  {
   "cell_type": "markdown",
   "id": "716944e9",
   "metadata": {},
   "source": [
    "Creating a neural network model"
   ]
  },
  {
   "cell_type": "code",
   "execution_count": 6,
   "id": "cdadc126",
   "metadata": {},
   "outputs": [
    {
     "name": "stdout",
     "output_type": "stream",
     "text": [
      "Epoch 1/15\n",
      "7121/7121 [==============================] - 320s 45ms/step - loss: 41.1228 - accuracy: 0.9963 - val_loss: 0.0256 - val_accuracy: 0.9983\n",
      "Epoch 2/15\n",
      "7121/7121 [==============================] - 338s 47ms/step - loss: 0.4895 - accuracy: 0.9981 - val_loss: 0.0152 - val_accuracy: 0.9983\n",
      "Epoch 3/15\n",
      "7121/7121 [==============================] - 377s 53ms/step - loss: 54.5007 - accuracy: 0.9979 - val_loss: 0.0167 - val_accuracy: 0.9983\n",
      "Epoch 4/15\n",
      "7121/7121 [==============================] - 369s 52ms/step - loss: 12.6654 - accuracy: 0.9981 - val_loss: 0.1207 - val_accuracy: 0.9983\n",
      "Epoch 5/15\n",
      "7121/7121 [==============================] - 384s 54ms/step - loss: 15.4075 - accuracy: 0.9981 - val_loss: 13.7651 - val_accuracy: 0.9983\n",
      "Epoch 6/15\n",
      "7121/7121 [==============================] - 378s 53ms/step - loss: 2.1762 - accuracy: 0.9979 - val_loss: 0.0491 - val_accuracy: 0.9983\n",
      "Epoch 7/15\n",
      "7121/7121 [==============================] - 396s 56ms/step - loss: 2.6396 - accuracy: 0.9981 - val_loss: 0.1545 - val_accuracy: 0.9983\n",
      "Epoch 8/15\n",
      "7121/7121 [==============================] - 434s 61ms/step - loss: 0.9988 - accuracy: 0.9982 - val_loss: 0.0161 - val_accuracy: 0.9983\n",
      "Epoch 9/15\n",
      "7121/7121 [==============================] - 384s 54ms/step - loss: 0.7244 - accuracy: 0.9981 - val_loss: 0.0176 - val_accuracy: 0.9983\n",
      "Epoch 10/15\n",
      "7121/7121 [==============================] - 333s 47ms/step - loss: 0.0129 - accuracy: 0.9983 - val_loss: 0.0509 - val_accuracy: 0.9983\n",
      "Epoch 11/15\n",
      "7121/7121 [==============================] - 321s 45ms/step - loss: 3.1763 - accuracy: 0.9981 - val_loss: 0.0340 - val_accuracy: 0.9983\n",
      "Epoch 12/15\n",
      "7121/7121 [==============================] - 749s 105ms/step - loss: 0.0129 - accuracy: 0.9983 - val_loss: 0.0393 - val_accuracy: 0.9983\n",
      "Epoch 13/15\n",
      "7121/7121 [==============================] - 314s 44ms/step - loss: 0.6538 - accuracy: 0.9982 - val_loss: 0.0134 - val_accuracy: 0.9983\n",
      "Epoch 14/15\n",
      "7121/7121 [==============================] - 297s 42ms/step - loss: 0.6012 - accuracy: 0.9979 - val_loss: 0.0209 - val_accuracy: 0.9983\n",
      "Epoch 15/15\n",
      "7121/7121 [==============================] - 369s 52ms/step - loss: 1.3458 - accuracy: 0.9983 - val_loss: 0.0127 - val_accuracy: 0.9983\n"
     ]
    }
   ],
   "source": [
    "from keras.models import Sequential\n",
    "from keras.layers import Dense, Dropout\n",
    "\n",
    "nn = Sequential()\n",
    "nn.add(Dense(2000,input_dim=(27)))#Layer 1- input\n",
    "nn.add(Dense(2000,activation=\"relu\"))#Layer 2\n",
    "nn.add(Dropout(0.2))#Hidden layer-1\n",
    "nn.add(Dense(2000,activation=\"relu\"))#Layer 3\n",
    "nn.add(Dropout(0.3))#Hidden layer-2\n",
    "nn.add(Dense(1,activation=\"sigmoid\"))#Layer 4 \n",
    "\n",
    "nn.compile(optimizer=\"adam\",loss=\"binary_crossentropy\",metrics=\"accuracy\")\n",
    "model = nn.fit(xtrain,ytrain,validation_data=(xtest,ytest),epochs=15)"
   ]
  },
  {
   "cell_type": "markdown",
   "id": "9b86d2df",
   "metadata": {},
   "source": [
    "Model Evaluation"
   ]
  },
  {
   "cell_type": "code",
   "execution_count": 7,
   "id": "30473573",
   "metadata": {},
   "outputs": [],
   "source": [
    "acc = model.history[\"accuracy\"]\n",
    "valacc = model.history[\"val_accuracy\"]"
   ]
  },
  {
   "cell_type": "code",
   "execution_count": 8,
   "id": "c0b5f541",
   "metadata": {},
   "outputs": [
    {
     "data": {
      "text/plain": [
       "[<matplotlib.lines.Line2D at 0x1bf00a30c10>]"
      ]
     },
     "execution_count": 8,
     "metadata": {},
     "output_type": "execute_result"
    },
    {
     "data": {
      "image/png": "[encoded data removed]",
      "text/plain": [
       "<Figure size 432x288 with 1 Axes>"
      ]
     },
     "metadata": {
      "needs_background": "light"
     },
     "output_type": "display_data"
    }
   ],
   "source": [
    "import matplotlib.pyplot as plt\n",
    "plt.plot(acc)\n",
    "plt.plot(valacc)"
   ]
  },
  {
   "cell_type": "code",
   "execution_count": 9,
   "id": "3ad78394",
   "metadata": {},
   "outputs": [
    {
     "name": "stdout",
     "output_type": "stream",
     "text": [
      "Training accuracy 0.9982707542408216\n",
      "Testing accuracy 0.9982795547909132\n"
     ]
    }
   ],
   "source": [
    "tr_pred = []\n",
    "for i in nn.predict(xtrain):\n",
    "    if(i>0.5):\n",
    "        tr_pred.append(1)\n",
    "    else:\n",
    "        tr_pred.append(0)\n",
    "\n",
    "ts_pred = []\n",
    "for i in nn.predict(xtest):\n",
    "    if(i>0.5):\n",
    "        ts_pred.append(1)\n",
    "    else:\n",
    "        ts_pred.append(0)\n",
    "\n",
    "from sklearn.metrics import accuracy_score\n",
    "tr_acc = accuracy_score(ytrain,tr_pred)\n",
    "ts_acc = accuracy_score(ytest,ts_pred)\n",
    "print(\"Training accuracy\",tr_acc)\n",
    "print(\"Testing accuracy\",ts_acc)"
   ]
  },
  {
   "cell_type": "markdown",
   "id": "1824f199",
   "metadata": {},
   "source": [
    "### generalization error: 0.0000088005500916"
   ]
  },
  {
   "cell_type": "markdown",
   "id": "1560ce30",
   "metadata": {},
   "source": [
    "# Conclusion:\n",
    "- the genralization error (testing accuracy - training accuracy) is approx 0.0\n",
    "- as we have applied ANN on unbalanced dataset, the legit transaction will dominate the outcome of the fraudulent transactions\n",
    "- epoch 13 gives the best accuracy"
   ]
  },
  {
   "cell_type": "markdown",
   "id": "87cd1824",
   "metadata": {},
   "source": [
    "## ========================================================================="
   ]
  },
  {
   "cell_type": "markdown",
   "id": "dda59254",
   "metadata": {},
   "source": [
    "### Implementing ANN on balanced dataset (Random Under Sampling)"
   ]
  },
  {
   "cell_type": "code",
   "execution_count": 15,
   "id": "8819263a",
   "metadata": {},
   "outputs": [],
   "source": [
    "import pandas as pd"
   ]
  },
  {
   "cell_type": "code",
   "execution_count": 16,
   "id": "8c33fbeb",
   "metadata": {},
   "outputs": [],
   "source": [
    "from warnings import filterwarnings\n",
    "filterwarnings(\"ignore\")"
   ]
  },
  {
   "cell_type": "code",
   "execution_count": 17,
   "id": "9f2193fc",
   "metadata": {},
   "outputs": [],
   "source": [
    "A=pd.read_csv(\"C:/Users/Arnav/Desktop/PROJECTS/Credit card fraud detection (IBM)/new_set_RUS.csv\")"
   ]
  },
  {
   "cell_type": "code",
   "execution_count": 18,
   "id": "9432debd",
   "metadata": {},
   "outputs": [
    {
     "data": {
      "text/html": [
       "<div>\n",
       "<style scoped>\n",
       "    .dataframe tbody tr th:only-of-type {\n",
       "        vertical-align: middle;\n",
       "    }\n",
       "\n",
       "    .dataframe tbody tr th {\n",
       "        vertical-align: top;\n",
       "    }\n",
       "\n",
       "    .dataframe thead th {\n",
       "        text-align: right;\n",
       "    }\n",
       "</style>\n",
       "<table border=\"1\" class=\"dataframe\">\n",
       "  <thead>\n",
       "    <tr style=\"text-align: right;\">\n",
       "      <th></th>\n",
       "      <th>Time</th>\n",
       "      <th>V1</th>\n",
       "      <th>V2</th>\n",
       "      <th>V3</th>\n",
       "      <th>V4</th>\n",
       "      <th>V5</th>\n",
       "      <th>V6</th>\n",
       "      <th>V7</th>\n",
       "      <th>V8</th>\n",
       "      <th>V9</th>\n",
       "      <th>...</th>\n",
       "      <th>V21</th>\n",
       "      <th>V22</th>\n",
       "      <th>V23</th>\n",
       "      <th>V24</th>\n",
       "      <th>V25</th>\n",
       "      <th>V26</th>\n",
       "      <th>V27</th>\n",
       "      <th>V28</th>\n",
       "      <th>Amount</th>\n",
       "      <th>Class</th>\n",
       "    </tr>\n",
       "  </thead>\n",
       "  <tbody>\n",
       "    <tr>\n",
       "      <th>0</th>\n",
       "      <td>75455</td>\n",
       "      <td>-0.832757</td>\n",
       "      <td>0.723793</td>\n",
       "      <td>1.556898</td>\n",
       "      <td>-1.304189</td>\n",
       "      <td>0.564000</td>\n",
       "      <td>-0.313753</td>\n",
       "      <td>0.928103</td>\n",
       "      <td>0.033233</td>\n",
       "      <td>-0.765745</td>\n",
       "      <td>...</td>\n",
       "      <td>0.059830</td>\n",
       "      <td>0.232433</td>\n",
       "      <td>-0.378386</td>\n",
       "      <td>0.128009</td>\n",
       "      <td>0.503589</td>\n",
       "      <td>1.027027</td>\n",
       "      <td>-0.068378</td>\n",
       "      <td>0.022133</td>\n",
       "      <td>10.30</td>\n",
       "      <td>0</td>\n",
       "    </tr>\n",
       "    <tr>\n",
       "      <th>1</th>\n",
       "      <td>66232</td>\n",
       "      <td>-0.717556</td>\n",
       "      <td>-1.219500</td>\n",
       "      <td>1.501383</td>\n",
       "      <td>-0.740817</td>\n",
       "      <td>-0.454398</td>\n",
       "      <td>0.741112</td>\n",
       "      <td>-0.057708</td>\n",
       "      <td>0.123678</td>\n",
       "      <td>-1.180033</td>\n",
       "      <td>...</td>\n",
       "      <td>-0.007957</td>\n",
       "      <td>0.145085</td>\n",
       "      <td>0.387026</td>\n",
       "      <td>-0.812068</td>\n",
       "      <td>-0.641005</td>\n",
       "      <td>1.212390</td>\n",
       "      <td>-0.126944</td>\n",
       "      <td>-0.079157</td>\n",
       "      <td>201.49</td>\n",
       "      <td>0</td>\n",
       "    </tr>\n",
       "    <tr>\n",
       "      <th>2</th>\n",
       "      <td>156955</td>\n",
       "      <td>1.805328</td>\n",
       "      <td>-0.708830</td>\n",
       "      <td>-0.705567</td>\n",
       "      <td>0.027614</td>\n",
       "      <td>0.326711</td>\n",
       "      <td>1.903074</td>\n",
       "      <td>-0.968763</td>\n",
       "      <td>0.611733</td>\n",
       "      <td>0.915924</td>\n",
       "      <td>...</td>\n",
       "      <td>0.320173</td>\n",
       "      <td>1.160286</td>\n",
       "      <td>0.170006</td>\n",
       "      <td>-0.652197</td>\n",
       "      <td>-0.405122</td>\n",
       "      <td>0.679822</td>\n",
       "      <td>0.019443</td>\n",
       "      <td>-0.062528</td>\n",
       "      <td>33.70</td>\n",
       "      <td>0</td>\n",
       "    </tr>\n",
       "  </tbody>\n",
       "</table>\n",
       "<p>3 rows × 31 columns</p>\n",
       "</div>"
      ],
      "text/plain": [
       "     Time        V1        V2        V3        V4        V5        V6  \\\n",
       "0   75455 -0.832757  0.723793  1.556898 -1.304189  0.564000 -0.313753   \n",
       "1   66232 -0.717556 -1.219500  1.501383 -0.740817 -0.454398  0.741112   \n",
       "2  156955  1.805328 -0.708830 -0.705567  0.027614  0.326711  1.903074   \n",
       "\n",
       "         V7        V8        V9  ...       V21       V22       V23       V24  \\\n",
       "0  0.928103  0.033233 -0.765745  ...  0.059830  0.232433 -0.378386  0.128009   \n",
       "1 -0.057708  0.123678 -1.180033  ... -0.007957  0.145085  0.387026 -0.812068   \n",
       "2 -0.968763  0.611733  0.915924  ...  0.320173  1.160286  0.170006 -0.652197   \n",
       "\n",
       "        V25       V26       V27       V28  Amount  Class  \n",
       "0  0.503589  1.027027 -0.068378  0.022133   10.30      0  \n",
       "1 -0.641005  1.212390 -0.126944 -0.079157  201.49      0  \n",
       "2 -0.405122  0.679822  0.019443 -0.062528   33.70      0  \n",
       "\n",
       "[3 rows x 31 columns]"
      ]
     },
     "execution_count": 18,
     "metadata": {},
     "output_type": "execute_result"
    }
   ],
   "source": [
    "A.head(3)"
   ]
  },
  {
   "cell_type": "code",
   "execution_count": 19,
   "id": "62b768f4",
   "metadata": {},
   "outputs": [
    {
     "data": {
      "text/plain": [
       "(984, 31)"
      ]
     },
     "execution_count": 19,
     "metadata": {},
     "output_type": "execute_result"
    }
   ],
   "source": [
    "A.shape"
   ]
  },
  {
   "cell_type": "code",
   "execution_count": 20,
   "id": "22730c88",
   "metadata": {},
   "outputs": [
    {
     "data": {
      "text/plain": [
       "Time      0\n",
       "V1        0\n",
       "V2        0\n",
       "V3        0\n",
       "V4        0\n",
       "V5        0\n",
       "V6        0\n",
       "V7        0\n",
       "V8        0\n",
       "V9        0\n",
       "V10       0\n",
       "V11       0\n",
       "V12       0\n",
       "V13       0\n",
       "V14       0\n",
       "V15       0\n",
       "V16       0\n",
       "V17       0\n",
       "V18       0\n",
       "V19       0\n",
       "V20       0\n",
       "V21       0\n",
       "V22       0\n",
       "V23       0\n",
       "V24       0\n",
       "V25       0\n",
       "V26       0\n",
       "V27       0\n",
       "V28       0\n",
       "Amount    0\n",
       "Class     0\n",
       "dtype: int64"
      ]
     },
     "execution_count": 20,
     "metadata": {},
     "output_type": "execute_result"
    }
   ],
   "source": [
    "A.isna().sum()"
   ]
  },
  {
   "cell_type": "code",
   "execution_count": 21,
   "id": "082f7fdc",
   "metadata": {},
   "outputs": [],
   "source": [
    "legit= A[A.Class==0]\n",
    "fraudulent= A[A.Class==1]"
   ]
  },
  {
   "cell_type": "code",
   "execution_count": 22,
   "id": "d3cce556",
   "metadata": {},
   "outputs": [
    {
     "name": "stdout",
     "output_type": "stream",
     "text": [
      "(492, 31)\n",
      "(492, 31)\n"
     ]
    }
   ],
   "source": [
    "print(legit.shape)\n",
    "print(fraudulent.shape)"
   ]
  },
  {
   "cell_type": "code",
   "execution_count": 23,
   "id": "8743e5e3",
   "metadata": {},
   "outputs": [
    {
     "data": {
      "text/plain": [
       "count     492.000000\n",
       "mean       88.315650\n",
       "std       253.885721\n",
       "min         0.000000\n",
       "25%         6.787500\n",
       "50%        25.995000\n",
       "75%        78.897500\n",
       "max      4112.890000\n",
       "Name: Amount, dtype: float64"
      ]
     },
     "execution_count": 23,
     "metadata": {},
     "output_type": "execute_result"
    }
   ],
   "source": [
    "legit.Amount.describe()"
   ]
  },
  {
   "cell_type": "code",
   "execution_count": 24,
   "id": "de061f7f",
   "metadata": {},
   "outputs": [
    {
     "data": {
      "text/plain": [
       "count     492.000000\n",
       "mean      122.211321\n",
       "std       256.683288\n",
       "min         0.000000\n",
       "25%         1.000000\n",
       "50%         9.250000\n",
       "75%       105.890000\n",
       "max      2125.870000\n",
       "Name: Amount, dtype: float64"
      ]
     },
     "execution_count": 24,
     "metadata": {},
     "output_type": "execute_result"
    }
   ],
   "source": [
    "fraudulent.Amount.describe()"
   ]
  },
  {
   "cell_type": "code",
   "execution_count": 25,
   "id": "646124d4",
   "metadata": {},
   "outputs": [],
   "source": [
    "X= A.drop(labels=['Class'],axis=1)\n",
    "Y=A[['Class']]\n",
    "#full model - model with all the predictors"
   ]
  },
  {
   "cell_type": "code",
   "execution_count": 26,
   "id": "d9834f25",
   "metadata": {},
   "outputs": [],
   "source": [
    "from sklearn.model_selection import train_test_split\n",
    "xtrain,xtest,ytrain,ytest= train_test_split(X,Y,test_size=0.2,stratify=Y,random_state=21)"
   ]
  },
  {
   "cell_type": "code",
   "execution_count": 28,
   "id": "3e2d0048",
   "metadata": {},
   "outputs": [
    {
     "name": "stdout",
     "output_type": "stream",
     "text": [
      "Epoch 1/15\n",
      "25/25 [==============================] - 3s 75ms/step - loss: 3927.8474 - accuracy: 0.5235 - val_loss: 138.2165 - val_accuracy: 0.5025\n",
      "Epoch 2/15\n",
      "25/25 [==============================] - 2s 62ms/step - loss: 238.0192 - accuracy: 0.5019 - val_loss: 57.5139 - val_accuracy: 0.4975\n",
      "Epoch 3/15\n",
      "25/25 [==============================] - 2s 62ms/step - loss: 44.2552 - accuracy: 0.5159 - val_loss: 0.6925 - val_accuracy: 0.5076\n",
      "Epoch 4/15\n",
      "25/25 [==============================] - 2s 63ms/step - loss: 3.0469 - accuracy: 0.5070 - val_loss: 0.6927 - val_accuracy: 0.5076\n",
      "Epoch 5/15\n",
      "25/25 [==============================] - 2s 62ms/step - loss: 1.0201 - accuracy: 0.5197 - val_loss: 0.6928 - val_accuracy: 0.5076\n",
      "Epoch 6/15\n",
      "25/25 [==============================] - 2s 63ms/step - loss: 1.6609 - accuracy: 0.5006 - val_loss: 0.6933 - val_accuracy: 0.5025\n",
      "Epoch 7/15\n",
      "25/25 [==============================] - 2s 63ms/step - loss: 2.5383 - accuracy: 0.5057 - val_loss: 0.6925 - val_accuracy: 0.5076\n",
      "Epoch 8/15\n",
      "25/25 [==============================] - 2s 64ms/step - loss: 4.3045 - accuracy: 0.5019 - val_loss: 0.6915 - val_accuracy: 0.5076\n",
      "Epoch 9/15\n",
      "25/25 [==============================] - 2s 62ms/step - loss: 1.6852 - accuracy: 0.4968 - val_loss: 0.6931 - val_accuracy: 0.5025\n",
      "Epoch 10/15\n",
      "25/25 [==============================] - 2s 63ms/step - loss: 0.6920 - accuracy: 0.4879 - val_loss: 0.6931 - val_accuracy: 0.5025\n",
      "Epoch 11/15\n",
      "25/25 [==============================] - 2s 64ms/step - loss: 0.6927 - accuracy: 0.4625 - val_loss: 0.6931 - val_accuracy: 0.5025\n",
      "Epoch 12/15\n",
      "25/25 [==============================] - 2s 62ms/step - loss: 0.6924 - accuracy: 0.4956 - val_loss: 0.6931 - val_accuracy: 0.5025\n",
      "Epoch 13/15\n",
      "25/25 [==============================] - 2s 63ms/step - loss: 0.6916 - accuracy: 0.5006 - val_loss: 0.6931 - val_accuracy: 0.5025\n",
      "Epoch 14/15\n",
      "25/25 [==============================] - 2s 62ms/step - loss: 0.6924 - accuracy: 0.4994 - val_loss: 0.6931 - val_accuracy: 0.5025\n",
      "Epoch 15/15\n",
      "25/25 [==============================] - 2s 62ms/step - loss: 0.6919 - accuracy: 0.4917 - val_loss: 0.6931 - val_accuracy: 0.4975\n"
     ]
    }
   ],
   "source": [
    "from keras.models import Sequential\n",
    "from keras.layers import Dense, Dropout\n",
    "\n",
    "nn = Sequential()\n",
    "nn.add(Dense(2000,input_dim=(30)))#Layer 1- input\n",
    "nn.add(Dense(2000,activation=\"relu\"))#Layer 2\n",
    "nn.add(Dropout(0.2))#Hidden layer-1\n",
    "nn.add(Dense(2000,activation=\"relu\"))#Layer 3\n",
    "nn.add(Dropout(0.3))#Hidden layer-2\n",
    "nn.add(Dense(1,activation=\"sigmoid\"))#Layer 4 \n",
    "\n",
    "nn.compile(optimizer=\"adam\",loss=\"binary_crossentropy\",metrics=\"accuracy\")\n",
    "model = nn.fit(xtrain,ytrain,validation_data=(xtest,ytest),epochs=15)"
   ]
  },
  {
   "cell_type": "code",
   "execution_count": 29,
   "id": "339de1e8",
   "metadata": {},
   "outputs": [],
   "source": [
    "acc = model.history[\"accuracy\"]\n",
    "valacc = model.history[\"val_accuracy\"]"
   ]
  },
  {
   "cell_type": "code",
   "execution_count": 30,
   "id": "3015355c",
   "metadata": {},
   "outputs": [
    {
     "data": {
      "text/plain": [
       "[<matplotlib.lines.Line2D at 0x252ab38c520>]"
      ]
     },
     "execution_count": 30,
     "metadata": {},
     "output_type": "execute_result"
    },
    {
     "data": {
      "image/png": "[encoded data removed]",
      "text/plain": [
       "<Figure size 432x288 with 1 Axes>"
      ]
     },
     "metadata": {
      "needs_background": "light"
     },
     "output_type": "display_data"
    }
   ],
   "source": [
    "import matplotlib.pyplot as plt\n",
    "plt.plot(acc)\n",
    "plt.plot(valacc)"
   ]
  },
  {
   "cell_type": "code",
   "execution_count": 31,
   "id": "f1ae419b",
   "metadata": {},
   "outputs": [
    {
     "name": "stdout",
     "output_type": "stream",
     "text": [
      "Training accuracy 0.5019059720457433\n",
      "Testing accuracy 0.49746192893401014\n"
     ]
    }
   ],
   "source": [
    "tr_pred = []\n",
    "for i in nn.predict(xtrain):\n",
    "    if(i>0.5):\n",
    "        tr_pred.append(1)\n",
    "    else:\n",
    "        tr_pred.append(0)\n",
    "\n",
    "ts_pred = []\n",
    "for i in nn.predict(xtest):\n",
    "    if(i>0.5):\n",
    "        ts_pred.append(1)\n",
    "    else:\n",
    "        ts_pred.append(0)\n",
    "\n",
    "from sklearn.metrics import accuracy_score\n",
    "tr_acc = accuracy_score(ytrain,tr_pred)\n",
    "ts_acc = accuracy_score(ytest,ts_pred)\n",
    "print(\"Training accuracy\",tr_acc)\n",
    "print(\"Testing accuracy\",ts_acc)\n",
    "\n",
    "#generalization = 0.001902747050742\n",
    "#generqaliztion = 0.00571469114222876"
   ]
  },
  {
   "cell_type": "markdown",
   "id": "a1e00c67",
   "metadata": {},
   "source": [
    "## Conclusion:\n",
    "- the generalization error = 0.001902747050742\n",
    "- the ANN model does not gives a better accuracy on the balanced RUS dataset.\n",
    "- Accuracy = 0.5057 [epoch 12]"
   ]
  },
  {
   "cell_type": "markdown",
   "id": "e084783a",
   "metadata": {},
   "source": [
    "## ========================================================================="
   ]
  },
  {
   "cell_type": "markdown",
   "id": "b9c39332",
   "metadata": {},
   "source": [
    "### Implementing ANN on balanced dataset (Random Over Sampling)"
   ]
  },
  {
   "cell_type": "code",
   "execution_count": 32,
   "id": "eb33ca58",
   "metadata": {},
   "outputs": [],
   "source": [
    "import pandas as pd"
   ]
  },
  {
   "cell_type": "code",
   "execution_count": 33,
   "id": "a8db19de",
   "metadata": {},
   "outputs": [],
   "source": [
    "B=pd.read_csv(\"C:/Users/Arnav/Desktop/PROJECTS/Credit card fraud detection (IBM)/new_set_ROS.csv\")"
   ]
  },
  {
   "cell_type": "code",
   "execution_count": 34,
   "id": "3e6fe68d",
   "metadata": {},
   "outputs": [
    {
     "data": {
      "text/html": [
       "<div>\n",
       "<style scoped>\n",
       "    .dataframe tbody tr th:only-of-type {\n",
       "        vertical-align: middle;\n",
       "    }\n",
       "\n",
       "    .dataframe tbody tr th {\n",
       "        vertical-align: top;\n",
       "    }\n",
       "\n",
       "    .dataframe thead th {\n",
       "        text-align: right;\n",
       "    }\n",
       "</style>\n",
       "<table border=\"1\" class=\"dataframe\">\n",
       "  <thead>\n",
       "    <tr style=\"text-align: right;\">\n",
       "      <th></th>\n",
       "      <th>Unnamed: 0</th>\n",
       "      <th>Time</th>\n",
       "      <th>V1</th>\n",
       "      <th>V2</th>\n",
       "      <th>V3</th>\n",
       "      <th>V4</th>\n",
       "      <th>V5</th>\n",
       "      <th>V6</th>\n",
       "      <th>V7</th>\n",
       "      <th>V8</th>\n",
       "      <th>...</th>\n",
       "      <th>V21</th>\n",
       "      <th>V22</th>\n",
       "      <th>V23</th>\n",
       "      <th>V24</th>\n",
       "      <th>V25</th>\n",
       "      <th>V26</th>\n",
       "      <th>V27</th>\n",
       "      <th>V28</th>\n",
       "      <th>Amount</th>\n",
       "      <th>Class</th>\n",
       "    </tr>\n",
       "  </thead>\n",
       "  <tbody>\n",
       "    <tr>\n",
       "      <th>0</th>\n",
       "      <td>0</td>\n",
       "      <td>0.0</td>\n",
       "      <td>-1.359807</td>\n",
       "      <td>-0.072781</td>\n",
       "      <td>2.536347</td>\n",
       "      <td>1.378155</td>\n",
       "      <td>-0.338321</td>\n",
       "      <td>0.462388</td>\n",
       "      <td>0.239599</td>\n",
       "      <td>0.098698</td>\n",
       "      <td>...</td>\n",
       "      <td>-0.018307</td>\n",
       "      <td>0.277838</td>\n",
       "      <td>-0.110474</td>\n",
       "      <td>0.066928</td>\n",
       "      <td>0.128539</td>\n",
       "      <td>-0.189115</td>\n",
       "      <td>0.133558</td>\n",
       "      <td>-0.021053</td>\n",
       "      <td>149.62</td>\n",
       "      <td>0</td>\n",
       "    </tr>\n",
       "    <tr>\n",
       "      <th>1</th>\n",
       "      <td>1</td>\n",
       "      <td>0.0</td>\n",
       "      <td>1.191857</td>\n",
       "      <td>0.266151</td>\n",
       "      <td>0.166480</td>\n",
       "      <td>0.448154</td>\n",
       "      <td>0.060018</td>\n",
       "      <td>-0.082361</td>\n",
       "      <td>-0.078803</td>\n",
       "      <td>0.085102</td>\n",
       "      <td>...</td>\n",
       "      <td>-0.225775</td>\n",
       "      <td>-0.638672</td>\n",
       "      <td>0.101288</td>\n",
       "      <td>-0.339846</td>\n",
       "      <td>0.167170</td>\n",
       "      <td>0.125895</td>\n",
       "      <td>-0.008983</td>\n",
       "      <td>0.014724</td>\n",
       "      <td>2.69</td>\n",
       "      <td>0</td>\n",
       "    </tr>\n",
       "    <tr>\n",
       "      <th>2</th>\n",
       "      <td>2</td>\n",
       "      <td>1.0</td>\n",
       "      <td>-1.358354</td>\n",
       "      <td>-1.340163</td>\n",
       "      <td>1.773209</td>\n",
       "      <td>0.379780</td>\n",
       "      <td>-0.503198</td>\n",
       "      <td>1.800499</td>\n",
       "      <td>0.791461</td>\n",
       "      <td>0.247676</td>\n",
       "      <td>...</td>\n",
       "      <td>0.247998</td>\n",
       "      <td>0.771679</td>\n",
       "      <td>0.909412</td>\n",
       "      <td>-0.689281</td>\n",
       "      <td>-0.327642</td>\n",
       "      <td>-0.139097</td>\n",
       "      <td>-0.055353</td>\n",
       "      <td>-0.059752</td>\n",
       "      <td>378.66</td>\n",
       "      <td>0</td>\n",
       "    </tr>\n",
       "  </tbody>\n",
       "</table>\n",
       "<p>3 rows × 32 columns</p>\n",
       "</div>"
      ],
      "text/plain": [
       "   Unnamed: 0  Time        V1        V2        V3        V4        V5  \\\n",
       "0           0   0.0 -1.359807 -0.072781  2.536347  1.378155 -0.338321   \n",
       "1           1   0.0  1.191857  0.266151  0.166480  0.448154  0.060018   \n",
       "2           2   1.0 -1.358354 -1.340163  1.773209  0.379780 -0.503198   \n",
       "\n",
       "         V6        V7        V8  ...       V21       V22       V23       V24  \\\n",
       "0  0.462388  0.239599  0.098698  ... -0.018307  0.277838 -0.110474  0.066928   \n",
       "1 -0.082361 -0.078803  0.085102  ... -0.225775 -0.638672  0.101288 -0.339846   \n",
       "2  1.800499  0.791461  0.247676  ...  0.247998  0.771679  0.909412 -0.689281   \n",
       "\n",
       "        V25       V26       V27       V28  Amount  Class  \n",
       "0  0.128539 -0.189115  0.133558 -0.021053  149.62      0  \n",
       "1  0.167170  0.125895 -0.008983  0.014724    2.69      0  \n",
       "2 -0.327642 -0.139097 -0.055353 -0.059752  378.66      0  \n",
       "\n",
       "[3 rows x 32 columns]"
      ]
     },
     "execution_count": 34,
     "metadata": {},
     "output_type": "execute_result"
    }
   ],
   "source": [
    "B.head(3)"
   ]
  },
  {
   "cell_type": "code",
   "execution_count": 35,
   "id": "1cb0c06d",
   "metadata": {},
   "outputs": [
    {
     "data": {
      "text/plain": [
       "(568630, 32)"
      ]
     },
     "execution_count": 35,
     "metadata": {},
     "output_type": "execute_result"
    }
   ],
   "source": [
    "B.shape"
   ]
  },
  {
   "cell_type": "code",
   "execution_count": 36,
   "id": "e8a077e7",
   "metadata": {},
   "outputs": [],
   "source": [
    "X= B.drop(labels=['Class'],axis=1)\n",
    "Y=B[['Class']]\n",
    "#full model - model with all the predictors"
   ]
  },
  {
   "cell_type": "code",
   "execution_count": 37,
   "id": "9309caf2",
   "metadata": {},
   "outputs": [],
   "source": [
    "from sklearn.model_selection import train_test_split\n",
    "xtrain,xtest,ytrain,ytest= train_test_split(X,Y,test_size=0.2,stratify=Y,random_state=21)"
   ]
  },
  {
   "cell_type": "code",
   "execution_count": 39,
   "id": "41bc378d",
   "metadata": {},
   "outputs": [
    {
     "name": "stdout",
     "output_type": "stream",
     "text": [
      "Epoch 1/15\n",
      "14216/14216 [==============================] - 897s 63ms/step - loss: 17.6747 - accuracy: 0.5013 - val_loss: 0.6931 - val_accuracy: 0.5000\n",
      "Epoch 2/15\n",
      "14216/14216 [==============================] - 811s 57ms/step - loss: 3.0783 - accuracy: 0.5004 - val_loss: 0.6932 - val_accuracy: 0.5000\n",
      "Epoch 3/15\n",
      "14216/14216 [==============================] - 583s 41ms/step - loss: 1.5923 - accuracy: 0.5007 - val_loss: 0.6932 - val_accuracy: 0.5000\n",
      "Epoch 4/15\n",
      "14216/14216 [==============================] - 626s 44ms/step - loss: 0.6932 - accuracy: 0.5001 - val_loss: 0.6931 - val_accuracy: 0.5000\n",
      "Epoch 5/15\n",
      "14216/14216 [==============================] - 671s 47ms/step - loss: 0.6932 - accuracy: 0.4980 - val_loss: 0.6931 - val_accuracy: 0.5000\n",
      "Epoch 6/15\n",
      "14216/14216 [==============================] - 828s 58ms/step - loss: 1.9913 - accuracy: 0.4993 - val_loss: 0.6932 - val_accuracy: 0.5000\n",
      "Epoch 7/15\n",
      "14216/14216 [==============================] - 2610s 184ms/step - loss: 0.6932 - accuracy: 0.5003 - val_loss: 0.6931 - val_accuracy: 0.5000\n",
      "Epoch 8/15\n",
      "14216/14216 [==============================] - 729s 51ms/step - loss: 0.6932 - accuracy: 0.5002 - val_loss: 0.6932 - val_accuracy: 0.5000\n",
      "Epoch 9/15\n",
      "14216/14216 [==============================] - 2222s 156ms/step - loss: 0.6932 - accuracy: 0.4995 - val_loss: 0.6931 - val_accuracy: 0.5000\n",
      "Epoch 10/15\n",
      "14216/14216 [==============================] - 650s 46ms/step - loss: 0.6932 - accuracy: 0.5007 - val_loss: 0.6932 - val_accuracy: 0.5000\n",
      "Epoch 11/15\n",
      "14216/14216 [==============================] - 776s 55ms/step - loss: 0.6932 - accuracy: 0.4999 - val_loss: 0.6932 - val_accuracy: 0.5000\n",
      "Epoch 12/15\n",
      "14216/14216 [==============================] - 725s 51ms/step - loss: 0.6932 - accuracy: 0.5000 - val_loss: 0.6932 - val_accuracy: 0.5000\n",
      "Epoch 13/15\n",
      "14216/14216 [==============================] - 800s 56ms/step - loss: 0.6932 - accuracy: 0.4989 - val_loss: 0.6932 - val_accuracy: 0.5000\n",
      "Epoch 14/15\n",
      "14216/14216 [==============================] - 753s 53ms/step - loss: 0.6932 - accuracy: 0.4992 - val_loss: 0.6932 - val_accuracy: 0.5000\n",
      "Epoch 15/15\n",
      "14216/14216 [==============================] - 756s 53ms/step - loss: 0.6932 - accuracy: 0.5000 - val_loss: 0.6932 - val_accuracy: 0.5000\n"
     ]
    }
   ],
   "source": [
    "from keras.models import Sequential\n",
    "from keras.layers import Dense, Dropout\n",
    "\n",
    "nn = Sequential()\n",
    "nn.add(Dense(2000,input_dim=(31)))#Layer 1- input\n",
    "nn.add(Dense(2000,activation=\"relu\"))#Layer 2\n",
    "nn.add(Dropout(0.2))#Hidden layer-1\n",
    "nn.add(Dense(2000,activation=\"relu\"))#Layer 3\n",
    "nn.add(Dropout(0.3))#Hidden layer-2\n",
    "nn.add(Dense(1,activation=\"sigmoid\"))#Layer 4 \n",
    "\n",
    "nn.compile(optimizer=\"adam\",loss=\"binary_crossentropy\",metrics=\"accuracy\")\n",
    "model = nn.fit(xtrain,ytrain,validation_data=(xtest0,ytest),epochs=15)"
   ]
  },
  {
   "cell_type": "code",
   "execution_count": 40,
   "id": "f4b065d3",
   "metadata": {},
   "outputs": [],
   "source": [
    "acc = model.history[\"accuracy\"]\n",
    "valacc = model.history[\"val_accuracy\"]"
   ]
  },
  {
   "cell_type": "code",
   "execution_count": 41,
   "id": "19456223",
   "metadata": {},
   "outputs": [
    {
     "data": {
      "text/plain": [
       "[<matplotlib.lines.Line2D at 0x25281f43820>]"
      ]
     },
     "execution_count": 41,
     "metadata": {},
     "output_type": "execute_result"
    },
    {
     "data": {
      "image/png": "[encoded data removed]",
      "text/plain": [
       "<Figure size 432x288 with 1 Axes>"
      ]
     },
     "metadata": {
      "needs_background": "light"
     },
     "output_type": "display_data"
    }
   ],
   "source": [
    "import matplotlib.pyplot as plt\n",
    "plt.plot(acc)\n",
    "plt.plot(valacc)"
   ]
  },
  {
   "cell_type": "code",
   "execution_count": 42,
   "id": "551834cc",
   "metadata": {},
   "outputs": [
    {
     "name": "stdout",
     "output_type": "stream",
     "text": [
      "Training accuracy 0.5\n",
      "Testing accuracy 0.5\n"
     ]
    }
   ],
   "source": [
    "tr_pred = []\n",
    "for i in nn.predict(xtrain):\n",
    "    if(i>0.5):\n",
    "        tr_pred.append(1)\n",
    "    else:\n",
    "        tr_pred.append(0)\n",
    "\n",
    "ts_pred = []\n",
    "for i in nn.predict(xtest):\n",
    "    if(i>0.5):\n",
    "        ts_pred.append(1)\n",
    "    else:\n",
    "        ts_pred.append(0)\n",
    "\n",
    "from sklearn.metrics import accuracy_score\n",
    "tr_acc = accuracy_score(ytrain,tr_pred)\n",
    "ts_acc = accuracy_score(ytest,ts_pred)\n",
    "print(\"Training accuracy\",tr_acc)\n",
    "print(\"Testing accuracy\",ts_acc)\n",
    "\n",
    "#generalization = 0.001902747050742\n",
    "#generqaliztion = 0.00571469114222876"
   ]
  },
  {
   "cell_type": "markdown",
   "id": "7eac8ffd",
   "metadata": {},
   "source": [
    "## Conclusion:\n",
    "- the generalization error = 0\n",
    "- the ANN model does not gives a better accuracy on the balanced ROS dataset.\n",
    "- Accuracy = 0.5007 [epoch 10]"
   ]
  },
  {
   "cell_type": "markdown",
   "id": "73ecbd83",
   "metadata": {},
   "source": [
    "### Final Conclusion: ANN model works best only on unbalanced credit card data"
   ]
  },
  {
   "cell_type": "code",
   "execution_count": null,
   "id": "bb43e202",
   "metadata": {},
   "outputs": [],
   "source": []
  }
 ],
 "metadata": {
  "kernelspec": {
   "display_name": "Python 3 (ipykernel)",
   "language": "python",
   "name": "python3"
  },
  "language_info": {
   "codemirror_mode": {
    "name": "ipython",
    "version": 3
   },
   "file_extension": ".py",
   "mimetype": "text/x-python",
   "name": "python",
   "nbconvert_exporter": "python",
   "pygments_lexer": "ipython3",
   "version": "3.9.7"
  }
 },
 "nbformat": 4,
 "nbformat_minor": 5
}
